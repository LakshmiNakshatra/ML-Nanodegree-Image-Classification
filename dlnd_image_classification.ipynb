{
 "cells": [
  {
   "cell_type": "markdown",
   "metadata": {
    "collapsed": true
   },
   "source": [
    "# Image Classification\n",
    "In this project, you'll classify images from the [CIFAR-10 dataset](https://www.cs.toronto.edu/~kriz/cifar.html).  The dataset consists of airplanes, dogs, cats, and other objects. You'll preprocess the images, then train a convolutional neural network on all the samples. The images need to be normalized and the labels need to be one-hot encoded.  You'll get to apply what you learned and build a convolutional, max pooling, dropout, and fully connected layers.  At the end, you'll get to see your neural network's predictions on the sample images.\n",
    "## Get the Data\n",
    "Run the following cell to download the [CIFAR-10 dataset for python](https://www.cs.toronto.edu/~kriz/cifar-10-python.tar.gz)."
   ]
  },
  {
   "cell_type": "code",
   "execution_count": 2,
   "metadata": {
    "collapsed": false
   },
   "outputs": [
    {
     "name": "stdout",
     "output_type": "stream",
     "text": [
      "All files found!\n"
     ]
    }
   ],
   "source": [
    "\"\"\"\n",
    "DON'T MODIFY ANYTHING IN THIS CELL THAT IS BELOW THIS LINE\n",
    "\"\"\"\n",
    "from urllib.request import urlretrieve\n",
    "from os.path import isfile, isdir\n",
    "from tqdm import tqdm\n",
    "import problem_unittests as tests\n",
    "import tarfile\n",
    "\n",
    "cifar10_dataset_folder_path = 'cifar-10-batches-py'\n",
    "\n",
    "class DLProgress(tqdm):\n",
    "    last_block = 0\n",
    "\n",
    "    def hook(self, block_num=1, block_size=1, total_size=None):\n",
    "        self.total = total_size\n",
    "        self.update((block_num - self.last_block) * block_size)\n",
    "        self.last_block = block_num\n",
    "\n",
    "if not isfile('cifar-10-python.tar.gz'):\n",
    "    with DLProgress(unit='B', unit_scale=True, miniters=1, desc='CIFAR-10 Dataset') as pbar:\n",
    "        urlretrieve(\n",
    "            'https://www.cs.toronto.edu/~kriz/cifar-10-python.tar.gz',\n",
    "            'cifar-10-python.tar.gz',\n",
    "            pbar.hook)\n",
    "\n",
    "if not isdir(cifar10_dataset_folder_path):\n",
    "    with tarfile.open('cifar-10-python.tar.gz') as tar:\n",
    "        tar.extractall()\n",
    "        tar.close()\n",
    "\n",
    "\n",
    "tests.test_folder_path(cifar10_dataset_folder_path)"
   ]
  },
  {
   "cell_type": "markdown",
   "metadata": {},
   "source": [
    "## Explore the Data\n",
    "The dataset is broken into batches to prevent your machine from running out of memory.  The CIFAR-10 dataset consists of 5 batches, named `data_batch_1`, `data_batch_2`, etc.. Each batch contains the labels and images that are one of the following:\n",
    "* airplane\n",
    "* automobile\n",
    "* bird\n",
    "* cat\n",
    "* deer\n",
    "* dog\n",
    "* frog\n",
    "* horse\n",
    "* ship\n",
    "* truck\n",
    "\n",
    "Understanding a dataset is part of making predictions on the data.  Play around with the code cell below by changing the `batch_id` and `sample_id`. The `batch_id` is the id for a batch (1-5). The `sample_id` is the id for a image and label pair in the batch.\n",
    "\n",
    "Ask yourself \"What are all possible labels?\", \"What is the range of values for the image data?\", \"Are the labels in order or random?\".  Answers to questions like these will help you preprocess the data and end up with better predictions."
   ]
  },
  {
   "cell_type": "code",
   "execution_count": 33,
   "metadata": {
    "collapsed": false
   },
   "outputs": [
    {
     "name": "stdout",
     "output_type": "stream",
     "text": [
      "\n",
      "Stats of batch 2:\n",
      "Samples: 10000\n",
      "Label Counts: {0: 984, 1: 1007, 2: 1010, 3: 995, 4: 1010, 5: 988, 6: 1008, 7: 1026, 8: 987, 9: 985}\n",
      "First 20 Labels: [1, 6, 6, 8, 8, 3, 4, 6, 0, 6, 0, 3, 6, 6, 5, 4, 8, 3, 2, 6]\n",
      "\n",
      "Example of Image 9800:\n",
      "Image - Min Value: 0 Max Value: 245\n",
      "Image - Shape: (32, 32, 3)\n",
      "Label - Label Id: 5 Name: dog\n"
     ]
    },
    {
     "data": {
      "image/png": "[encoded data removed]",
      "text/plain": [
       "<matplotlib.figure.Figure at 0x2d5e9de3940>"
      ]
     },
     "metadata": {
      "image/png": {
       "height": 250,
       "width": 253
      }
     },
     "output_type": "display_data"
    }
   ],
   "source": [
    "%matplotlib inline\n",
    "%config InlineBackend.figure_format = 'retina'\n",
    "\n",
    "import helper\n",
    "import numpy as np\n",
    "\n",
    "# Explore the dataset\n",
    "batch_id = 2\n",
    "sample_id = 9800\n",
    "helper.display_stats(cifar10_dataset_folder_path, batch_id, sample_id)"
   ]
  },
  {
   "cell_type": "markdown",
   "metadata": {},
   "source": [
    "## Implement Preprocess Functions\n",
    "### Normalize\n",
    "In the cell below, implement the `normalize` function to take in image data, `x`, and return it as a normalized Numpy array. The values should be in the range of 0 to 1, inclusive.  The return object should be the same shape as `x`."
   ]
  },
  {
   "cell_type": "code",
   "execution_count": 34,
   "metadata": {
    "collapsed": false
   },
   "outputs": [
    {
     "name": "stdout",
     "output_type": "stream",
     "text": [
      "Tests Passed\n"
     ]
    }
   ],
   "source": [
    "def normalize(x):\n",
    "    \"\"\"\n",
    "    Normalize a list of sample image data in the range of 0 to 1\n",
    "    : x: List of image data.  The image shape is (32, 32, 3)\n",
    "    : return: Numpy array of normalize data\n",
    "    \"\"\"\n",
    "    # TODO: Implement Function\n",
    "    x_min = np.min(x)\n",
    "    x_max = np.max(x)\n",
    "    return (x - x_min)/(x_max - x_min)\n",
    "\n",
    "\n",
    "\"\"\"\n",
    "DON'T MODIFY ANYTHING IN THIS CELL THAT IS BELOW THIS LINE\n",
    "\"\"\"\n",
    "tests.test_normalize(normalize)"
   ]
  },
  {
   "cell_type": "markdown",
   "metadata": {},
   "source": [
    "### One-hot encode\n",
    "Just like the previous code cell, you'll be implementing a function for preprocessing.  This time, you'll implement the `one_hot_encode` function. The input, `x`, are a list of labels.  Implement the function to return the list of labels as One-Hot encoded Numpy array.  The possible values for labels are 0 to 9. The one-hot encoding function should return the same encoding for each value between each call to `one_hot_encode`.  Make sure to save the map of encodings outside the function.\n",
    "\n",
    "**Hint:**\n",
    "\n",
    "Look into LabelBinarizer in the preprocessing module of sklearn."
   ]
  },
  {
   "cell_type": "code",
   "execution_count": 35,
   "metadata": {
    "collapsed": false
   },
   "outputs": [
    {
     "name": "stdout",
     "output_type": "stream",
     "text": [
      "Tests Passed\n"
     ]
    }
   ],
   "source": [
    "def one_hot_encode(x):\n",
    "    \"\"\"\n",
    "    One hot encode a list of sample labels. Return a one-hot encoded vector for each label.\n",
    "    : x: List of sample Labels\n",
    "    : return: Numpy array of one-hot encoded labels\n",
    "    \"\"\"\n",
    "    # TODO: Implement Function\n",
    "    y = np.zeros((len(x), 10))\n",
    "    for i in range(len(x)):\n",
    "        y[i,x[i]] = 1\n",
    "    return y\n",
    "\n",
    "\n",
    "\"\"\"\n",
    "DON'T MODIFY ANYTHING IN THIS CELL THAT IS BELOW THIS LINE\n",
    "\"\"\"\n",
    "tests.test_one_hot_encode(one_hot_encode)"
   ]
  },
  {
   "cell_type": "markdown",
   "metadata": {},
   "source": [
    "### Randomize Data\n",
    "As you saw from exploring the data above, the order of the samples are randomized.  It doesn't hurt to randomize it again, but you don't need to for this dataset."
   ]
  },
  {
   "cell_type": "markdown",
   "metadata": {},
   "source": [
    "## Preprocess all the data and save it\n",
    "Running the code cell below will preprocess all the CIFAR-10 data and save it to file. The code below also uses 10% of the training data for validation."
   ]
  },
  {
   "cell_type": "code",
   "execution_count": 36,
   "metadata": {
    "collapsed": false
   },
   "outputs": [],
   "source": [
    "\"\"\"\n",
    "DON'T MODIFY ANYTHING IN THIS CELL\n",
    "\"\"\"\n",
    "# Preprocess Training, Validation, and Testing Data\n",
    "helper.preprocess_and_save_data(cifar10_dataset_folder_path, normalize, one_hot_encode)"
   ]
  },
  {
   "cell_type": "markdown",
   "metadata": {},
   "source": [
    "# Check Point\n",
    "This is your first checkpoint.  If you ever decide to come back to this notebook or have to restart the notebook, you can start from here.  The preprocessed data has been saved to disk."
   ]
  },
  {
   "cell_type": "code",
   "execution_count": 37,
   "metadata": {
    "collapsed": true
   },
   "outputs": [],
   "source": [
    "\"\"\"\n",
    "DON'T MODIFY ANYTHING IN THIS CELL\n",
    "\"\"\"\n",
    "import pickle\n",
    "import problem_unittests as tests\n",
    "import helper\n",
    "\n",
    "# Load the Preprocessed Validation data\n",
    "valid_features, valid_labels = pickle.load(open('preprocess_validation.p', mode='rb'))"
   ]
  },
  {
   "cell_type": "markdown",
   "metadata": {},
   "source": [
    "## Build the network\n",
    "For the neural network, you'll build each layer into a function.  Most of the code you've seen has been outside of functions. To test your code more thoroughly, we require that you put each layer in a function.  This allows us to give you better feedback and test for simple mistakes using our unittests before you submit your project.\n",
    "\n",
    ">**Note:** If you're finding it hard to dedicate enough time for this course each week, we've provided a small shortcut to this part of the project. In the next couple of problems, you'll have the option to use classes from the [TensorFlow Layers](https://www.tensorflow.org/api_docs/python/tf/layers) or [TensorFlow Layers (contrib)](https://www.tensorflow.org/api_guides/python/contrib.layers) packages to build each layer, except the layers you build in the \"Convolutional and Max Pooling Layer\" section.  TF Layers is similar to Keras's and TFLearn's abstraction to layers, so it's easy to pickup.\n",
    "\n",
    ">However, if you would like to get the most out of this course, try to solve all the problems _without_ using anything from the TF Layers packages. You **can** still use classes from other packages that happen to have the same name as ones you find in TF Layers! For example, instead of using the TF Layers version of the `conv2d` class, [tf.layers.conv2d](https://www.tensorflow.org/api_docs/python/tf/layers/conv2d), you would want to use the TF Neural Network version of `conv2d`, [tf.nn.conv2d](https://www.tensorflow.org/api_docs/python/tf/nn/conv2d). \n",
    "\n",
    "Let's begin!\n",
    "\n",
    "### Input\n",
    "The neural network needs to read the image data, one-hot encoded labels, and dropout keep probability. Implement the following functions\n",
    "* Implement `neural_net_image_input`\n",
    " * Return a [TF Placeholder](https://www.tensorflow.org/api_docs/python/tf/placeholder)\n",
    " * Set the shape using `image_shape` with batch size set to `None`.\n",
    " * Name the TensorFlow placeholder \"x\" using the TensorFlow `name` parameter in the [TF Placeholder](https://www.tensorflow.org/api_docs/python/tf/placeholder).\n",
    "* Implement `neural_net_label_input`\n",
    " * Return a [TF Placeholder](https://www.tensorflow.org/api_docs/python/tf/placeholder)\n",
    " * Set the shape using `n_classes` with batch size set to `None`.\n",
    " * Name the TensorFlow placeholder \"y\" using the TensorFlow `name` parameter in the [TF Placeholder](https://www.tensorflow.org/api_docs/python/tf/placeholder).\n",
    "* Implement `neural_net_keep_prob_input`\n",
    " * Return a [TF Placeholder](https://www.tensorflow.org/api_docs/python/tf/placeholder) for dropout keep probability.\n",
    " * Name the TensorFlow placeholder \"keep_prob\" using the TensorFlow `name` parameter in the [TF Placeholder](https://www.tensorflow.org/api_docs/python/tf/placeholder).\n",
    "\n",
    "These names will be used at the end of the project to load your saved model.\n",
    "\n",
    "Note: `None` for shapes in TensorFlow allow for a dynamic size."
   ]
  },
  {
   "cell_type": "code",
   "execution_count": 39,
   "metadata": {
    "collapsed": false
   },
   "outputs": [
    {
     "name": "stdout",
     "output_type": "stream",
     "text": [
      "Image Input Tests Passed.\n",
      "Label Input Tests Passed.\n",
      "Keep Prob Tests Passed.\n"
     ]
    }
   ],
   "source": [
    "import tensorflow as tf\n",
    "\n",
    "def neural_net_image_input(image_shape):\n",
    "    \"\"\"\n",
    "    Return a Tensor for a batch of image input\n",
    "    : image_shape: Shape of the images\n",
    "    : return: Tensor for image input.\n",
    "    \"\"\"\n",
    "    # TODO: Implement Function\n",
    "    return tf.placeholder(tf.float32, [None] + list(image_shape), \"x\")\n",
    "\n",
    "\n",
    "def neural_net_label_input(n_classes):\n",
    "    \"\"\"\n",
    "    Return a Tensor for a batch of label input\n",
    "    : n_classes: Number of classes\n",
    "    : return: Tensor for label input.\n",
    "    \"\"\"\n",
    "    # TODO: Implement Function\n",
    "    return tf.placeholder(tf.float32, [None, n_classes], \"y\")\n",
    "\n",
    "\n",
    "def neural_net_keep_prob_input():\n",
    "    \"\"\"\n",
    "    Return a Tensor for keep probability\n",
    "    : return: Tensor for keep probability.\n",
    "    \"\"\"\n",
    "    # TODO: Implement Function\n",
    "    return tf.placeholder(tf.float32, shape=(None), name='keep_prob')\n",
    "\n",
    "\n",
    "\"\"\"\n",
    "DON'T MODIFY ANYTHING IN THIS CELL THAT IS BELOW THIS LINE\n",
    "\"\"\"\n",
    "tf.reset_default_graph()\n",
    "tests.test_nn_image_inputs(neural_net_image_input)\n",
    "tests.test_nn_label_inputs(neural_net_label_input)\n",
    "tests.test_nn_keep_prob_inputs(neural_net_keep_prob_input)"
   ]
  },
  {
   "cell_type": "markdown",
   "metadata": {},
   "source": [
    "### Convolution and Max Pooling Layer\n",
    "Convolution layers have a lot of success with images. For this code cell, you should implement the function `conv2d_maxpool` to apply convolution then max pooling:\n",
    "* Create the weight and bias using `conv_ksize`, `conv_num_outputs` and the shape of `x_tensor`.\n",
    "* Apply a convolution to `x_tensor` using weight and `conv_strides`.\n",
    " * We recommend you use same padding, but you're welcome to use any padding.\n",
    "* Add bias\n",
    "* Add a nonlinear activation to the convolution.\n",
    "* Apply Max Pooling using `pool_ksize` and `pool_strides`.\n",
    " * We recommend you use same padding, but you're welcome to use any padding.\n",
    "\n",
    "**Note:** You **can't** use [TensorFlow Layers](https://www.tensorflow.org/api_docs/python/tf/layers) or [TensorFlow Layers (contrib)](https://www.tensorflow.org/api_guides/python/contrib.layers) for **this** layer, but you can still use TensorFlow's [Neural Network](https://www.tensorflow.org/api_docs/python/tf/nn) package. You may still use the shortcut option for all the **other** layers.\n",
    "\n",
    "** Hint: **\n",
    "\n",
    "When unpacking values as an argument in Python, look into the [unpacking](https://docs.python.org/3/tutorial/controlflow.html#unpacking-argument-lists) operator. "
   ]
  },
  {
   "cell_type": "code",
   "execution_count": 40,
   "metadata": {
    "collapsed": false
   },
   "outputs": [
    {
     "name": "stdout",
     "output_type": "stream",
     "text": [
      "Tests Passed\n"
     ]
    }
   ],
   "source": [
    "def conv2d_maxpool(x_tensor, conv_num_outputs, conv_ksize, conv_strides, pool_ksize, pool_strides):\n",
    "    \"\"\"\n",
    "    Apply convolution then max pooling to x_tensor\n",
    "    :param x_tensor: TensorFlow Tensor\n",
    "    :param conv_num_outputs: Number of outputs for the convolutional layer\n",
    "    :param conv_ksize: kernal size 2-D Tuple for the convolutional layer\n",
    "    :param conv_strides: Stride 2-D Tuple for convolution\n",
    "    :param pool_ksize: kernal size 2-D Tuple for pool\n",
    "    :param pool_strides: Stride 2-D Tuple for pool\n",
    "    : return: A tensor that represents convolution and max pooling of x_tensor\n",
    "    \"\"\"\n",
    "    # TODO: Implement Function\n",
    "    # Implementing Convolution Layer\n",
    "    weights_shape = list(conv_ksize) + [x_tensor.get_shape().as_list()[3], conv_num_outputs]\n",
    "    weights = tf.Variable(tf.truncated_normal(weights_shape, stddev=5e-2))\n",
    "    bias = tf.Variable(tf.zeros(conv_num_outputs))\n",
    "    padding = 'SAME'\n",
    "    conv_layer = tf.nn.conv2d(x_tensor, weights, list((1,)+conv_strides+(1,)), padding)\n",
    "    conv_layer = tf.nn.bias_add(conv_layer, bias)\n",
    "    conv_layer = tf.nn.relu(conv_layer)\n",
    "    \n",
    "    # Implementing Pooling Layer\n",
    "    tensor = tf.nn.max_pool(\n",
    "        conv_layer,\n",
    "        ksize=[1] + list(pool_ksize) + [1],\n",
    "        strides=[1] + list(pool_strides) + [1],\n",
    "        padding='SAME')\n",
    "    return tensor \n",
    "\n",
    "\n",
    "\"\"\"\n",
    "DON'T MODIFY ANYTHING IN THIS CELL THAT IS BELOW THIS LINE\n",
    "\"\"\"\n",
    "tests.test_con_pool(conv2d_maxpool)"
   ]
  },
  {
   "cell_type": "markdown",
   "metadata": {},
   "source": [
    "### Flatten Layer\n",
    "Implement the `flatten` function to change the dimension of `x_tensor` from a 4-D tensor to a 2-D tensor.  The output should be the shape (*Batch Size*, *Flattened Image Size*). Shortcut option: you can use classes from the [TensorFlow Layers](https://www.tensorflow.org/api_docs/python/tf/layers) or [TensorFlow Layers (contrib)](https://www.tensorflow.org/api_guides/python/contrib.layers) packages for this layer. For more of a challenge, only use other TensorFlow packages."
   ]
  },
  {
   "cell_type": "code",
   "execution_count": 41,
   "metadata": {
    "collapsed": false
   },
   "outputs": [
    {
     "name": "stdout",
     "output_type": "stream",
     "text": [
      "Tests Passed\n"
     ]
    }
   ],
   "source": [
    "def flatten(x_tensor):\n",
    "    \"\"\"\n",
    "    Flatten x_tensor to (Batch Size, Flattened Image Size)\n",
    "    : x_tensor: A tensor of size (Batch Size, ...), where ... are the image dimensions.\n",
    "    : return: A tensor of size (Batch Size, Flattened Image Size).\n",
    "    \"\"\"\n",
    "    # TODO: Implement Function\n",
    "    # Obtaining shape of the tensor\n",
    "    tensor_shape = x_tensor.get_shape().as_list()\n",
    "    # Obtaining flattened length\n",
    "    flat_shape = np.array(tensor_shape[1:]).prod()\n",
    "    # Reshaping the tensor\n",
    "    return tf.reshape(x_tensor, [tf.shape(x_tensor)[0], flat_shape])\n",
    "\n",
    "\"\"\"\n",
    "DON'T MODIFY ANYTHING IN THIS CELL THAT IS BELOW THIS LINE\n",
    "\"\"\"\n",
    "tests.test_flatten(flatten)"
   ]
  },
  {
   "cell_type": "markdown",
   "metadata": {},
   "source": [
    "### Fully-Connected Layer\n",
    "Implement the `fully_conn` function to apply a fully connected layer to `x_tensor` with the shape (*Batch Size*, *num_outputs*). Shortcut option: you can use classes from the [TensorFlow Layers](https://www.tensorflow.org/api_docs/python/tf/layers) or [TensorFlow Layers (contrib)](https://www.tensorflow.org/api_guides/python/contrib.layers) packages for this layer. For more of a challenge, only use other TensorFlow packages."
   ]
  },
  {
   "cell_type": "code",
   "execution_count": 42,
   "metadata": {
    "collapsed": false
   },
   "outputs": [
    {
     "name": "stdout",
     "output_type": "stream",
     "text": [
      "Tests Passed\n"
     ]
    }
   ],
   "source": [
    "def fully_conn(x_tensor, num_outputs):\n",
    "    \"\"\"\n",
    "    Apply a fully connected layer to x_tensor using weight and bias\n",
    "    : x_tensor: A 2-D tensor where the first dimension is batch size.\n",
    "    : num_outputs: The number of output that the new tensor should be.\n",
    "    : return: A 2-D tensor where the second dimension is num_outputs.\n",
    "    \"\"\"\n",
    "    # TODO: Implement Function\n",
    "    flattened_shape = np.array(x_tensor.get_shape().as_list()[1:]).prod()\n",
    "    # Define trainable variables.\n",
    "    weights = tf.Variable(tf.truncated_normal([flattened_shape, num_outputs], stddev=0.04))\n",
    "    bias = tf.Variable(tf.zeros([num_outputs]))\n",
    "    \n",
    "    # Fully convolution layer.\n",
    "    fc = tf.nn.relu(tf.add(tf.matmul(x_tensor, weights), bias))        \n",
    "    return fc\n",
    "\n",
    "\n",
    "\"\"\"\n",
    "DON'T MODIFY ANYTHING IN THIS CELL THAT IS BELOW THIS LINE\n",
    "\"\"\"\n",
    "tests.test_fully_conn(fully_conn)"
   ]
  },
  {
   "cell_type": "markdown",
   "metadata": {},
   "source": [
    "### Output Layer\n",
    "Implement the `output` function to apply a fully connected layer to `x_tensor` with the shape (*Batch Size*, *num_outputs*). Shortcut option: you can use classes from the [TensorFlow Layers](https://www.tensorflow.org/api_docs/python/tf/layers) or [TensorFlow Layers (contrib)](https://www.tensorflow.org/api_guides/python/contrib.layers) packages for this layer. For more of a challenge, only use other TensorFlow packages.\n",
    "\n",
    "**Note:** Activation, softmax, or cross entropy should **not** be applied to this."
   ]
  },
  {
   "cell_type": "code",
   "execution_count": 43,
   "metadata": {
    "collapsed": false
   },
   "outputs": [
    {
     "name": "stdout",
     "output_type": "stream",
     "text": [
      "Tests Passed\n"
     ]
    }
   ],
   "source": [
    "def output(x_tensor, num_outputs):\n",
    "    \"\"\"\n",
    "    Apply a output layer to x_tensor using weight and bias\n",
    "    : x_tensor: A 2-D tensor where the first dimension is batch size.\n",
    "    : num_outputs: The number of output that the new tensor should be.\n",
    "    : return: A 2-D tensor where the second dimension is num_outputs.\n",
    "    \"\"\"\n",
    "    # TODO: Implement Function\n",
    "    flattened_shape = np.array(x_tensor.get_shape().as_list()[1:]).prod()\n",
    "    # Define trainable variables.\n",
    "    weights = tf.Variable(tf.truncated_normal([flattened_shape, num_outputs], stddev=0.04))\n",
    "    bias = tf.Variable(tf.zeros([num_outputs]))\n",
    "    \n",
    "    # Output layer.    \n",
    "    return tf.add(tf.matmul(x_tensor, weights), bias)\n",
    "\n",
    "\"\"\"\n",
    "DON'T MODIFY ANYTHING IN THIS CELL THAT IS BELOW THIS LINE\n",
    "\"\"\"\n",
    "tests.test_output(output)"
   ]
  },
  {
   "cell_type": "markdown",
   "metadata": {},
   "source": [
    "### Create Convolutional Model\n",
    "Implement the function `conv_net` to create a convolutional neural network model. The function takes in a batch of images, `x`, and outputs logits.  Use the layers you created above to create this model:\n",
    "\n",
    "* Apply 1, 2, or 3 Convolution and Max Pool layers\n",
    "* Apply a Flatten Layer\n",
    "* Apply 1, 2, or 3 Fully Connected Layers\n",
    "* Apply an Output Layer\n",
    "* Return the output\n",
    "* Apply [TensorFlow's Dropout](https://www.tensorflow.org/api_docs/python/tf/nn/dropout) to one or more layers in the model using `keep_prob`. "
   ]
  },
  {
   "cell_type": "code",
   "execution_count": 44,
   "metadata": {
    "collapsed": false
   },
   "outputs": [
    {
     "name": "stdout",
     "output_type": "stream",
     "text": [
      "Neural Network Built!\n"
     ]
    }
   ],
   "source": [
    "def conv_net(x, keep_prob):\n",
    "    \"\"\"\n",
    "    Create a convolutional neural network model\n",
    "    : x: Placeholder tensor that holds image data.\n",
    "    : keep_prob: Placeholder tensor that hold dropout keep probability.\n",
    "    : return: Tensor that represents logits\n",
    "    \"\"\"\n",
    "    # TODO: Apply 1, 2, or 3 Convolution and Max Pool layers\n",
    "    #    Play around with different number of outputs, kernel size and stride\n",
    "    # Function Definition from Above:\n",
    "    #    conv2d_maxpool(x_tensor, conv_num_outputs, conv_ksize, conv_strides, pool_ksize, pool_strides)\n",
    "    \n",
    "    conv_ksize = (4, 4)\n",
    "    conv_strides = (2, 2)\n",
    "    pool_ksize = (3, 3)\n",
    "    pool_strides = (2, 2)\n",
    "    \n",
    "    # Layer 1 \n",
    "    conv_num_outputs = 64\n",
    "    conv1 = conv2d_maxpool(x, conv_num_outputs, conv_ksize, conv_strides, pool_ksize, pool_strides)\n",
    "    \n",
    "    # Layer 2\n",
    "    conv_num_outputs = 128\n",
    "    conv2 = conv2d_maxpool(x, conv_num_outputs, conv_ksize, conv_strides, pool_ksize, pool_strides)\n",
    "    \n",
    "    # TODO: Apply a Flatten Layer\n",
    "    # Function Definition from Above:\n",
    "    #   flatten(x_tensor)\n",
    "    flatten1 = flatten(conv2)\n",
    "\n",
    "    # TODO: Apply 1, 2, or 3 Fully Connected Layers\n",
    "    #    Play around with different number of outputs\n",
    "    # Function Definition from Above:\n",
    "    #   fully_conn(x_tensor, num_outputs)\n",
    "    fully1 = fully_conn(flatten1, 256)\n",
    "    fully1 = tf.nn.dropout(fully1, keep_prob)\n",
    "    \n",
    "    # TODO: Apply an Output Layer\n",
    "    #    Set this to the number of classes\n",
    "    # Function Definition from Above:\n",
    "    #   output(x_tensor, num_outputs)\n",
    "    output_layer = output(fully1, 10)\n",
    "    \n",
    "    \n",
    "    # TODO: return output\n",
    "    return output_layer\n",
    "\n",
    "\n",
    "\"\"\"\n",
    "DON'T MODIFY ANYTHING IN THIS CELL THAT IS BELOW THIS LINE\n",
    "\"\"\"\n",
    "\n",
    "##############################\n",
    "## Build the Neural Network ##\n",
    "##############################\n",
    "\n",
    "# Remove previous weights, bias, inputs, etc..\n",
    "tf.reset_default_graph()\n",
    "\n",
    "# Inputs\n",
    "x = neural_net_image_input((32, 32, 3))\n",
    "y = neural_net_label_input(10)\n",
    "keep_prob = neural_net_keep_prob_input()\n",
    "\n",
    "# Model\n",
    "logits = conv_net(x, keep_prob)\n",
    "\n",
    "# Name logits Tensor, so that is can be loaded from disk after training\n",
    "logits = tf.identity(logits, name='logits')\n",
    "\n",
    "# Loss and Optimizer\n",
    "cost = tf.reduce_mean(tf.nn.softmax_cross_entropy_with_logits(logits=logits, labels=y))\n",
    "optimizer = tf.train.AdamOptimizer().minimize(cost)\n",
    "\n",
    "# Accuracy\n",
    "correct_pred = tf.equal(tf.argmax(logits, 1), tf.argmax(y, 1))\n",
    "accuracy = tf.reduce_mean(tf.cast(correct_pred, tf.float32), name='accuracy')\n",
    "\n",
    "tests.test_conv_net(conv_net)"
   ]
  },
  {
   "cell_type": "markdown",
   "metadata": {},
   "source": [
    "## Train the Neural Network\n",
    "### Single Optimization\n",
    "Implement the function `train_neural_network` to do a single optimization.  The optimization should use `optimizer` to optimize in `session` with a `feed_dict` of the following:\n",
    "* `x` for image input\n",
    "* `y` for labels\n",
    "* `keep_prob` for keep probability for dropout\n",
    "\n",
    "This function will be called for each batch, so `tf.global_variables_initializer()` has already been called.\n",
    "\n",
    "Note: Nothing needs to be returned. This function is only optimizing the neural network."
   ]
  },
  {
   "cell_type": "code",
   "execution_count": 45,
   "metadata": {
    "collapsed": false
   },
   "outputs": [
    {
     "name": "stdout",
     "output_type": "stream",
     "text": [
      "Tests Passed\n"
     ]
    }
   ],
   "source": [
    "def train_neural_network(session, optimizer, keep_probability, feature_batch, label_batch):\n",
    "    \"\"\"\n",
    "    Optimize the session on a batch of images and labels\n",
    "    : session: Current TensorFlow session\n",
    "    : optimizer: TensorFlow optimizer function\n",
    "    : keep_probability: keep probability\n",
    "    : feature_batch: Batch of Numpy image data\n",
    "    : label_batch: Batch of Numpy label data\n",
    "    \"\"\"\n",
    "    # TODO: Implement Function\n",
    "    return session.run(optimizer, feed_dict={x: feature_batch, y: label_batch, keep_prob: keep_probability})\n",
    "\n",
    "\n",
    "\n",
    "\"\"\"\n",
    "DON'T MODIFY ANYTHING IN THIS CELL THAT IS BELOW THIS LINE\n",
    "\"\"\"\n",
    "tests.test_train_nn(train_neural_network)"
   ]
  },
  {
   "cell_type": "markdown",
   "metadata": {},
   "source": [
    "### Show Stats\n",
    "Implement the function `print_stats` to print loss and validation accuracy.  Use the global variables `valid_features` and `valid_labels` to calculate validation accuracy.  Use a keep probability of `1.0` to calculate the loss and validation accuracy."
   ]
  },
  {
   "cell_type": "code",
   "execution_count": 46,
   "metadata": {
    "collapsed": false
   },
   "outputs": [],
   "source": [
    "def print_stats(session, feature_batch, label_batch, cost, accuracy):\n",
    "    \"\"\"\n",
    "    Print information about loss and validation accuracy\n",
    "    : session: Current TensorFlow session\n",
    "    : feature_batch: Batch of Numpy image data\n",
    "    : label_batch: Batch of Numpy label data\n",
    "    : cost: TensorFlow cost function\n",
    "    : accuracy: TensorFlow accuracy function\n",
    "    \"\"\"\n",
    "    # TODO: Implement Function\n",
    "    loss = session.run(cost, feed_dict={x:feature_batch, y:label_batch, keep_prob:1.0})\n",
    "    valid_acc = sess.run(accuracy, feed_dict={\n",
    "                x: valid_features,\n",
    "                y: valid_labels,\n",
    "                keep_prob: 1.})\n",
    "    print('Loss: {:>10.4f} Validation Accuracy: {:.6f}'.format(\n",
    "                loss,\n",
    "                valid_acc))"
   ]
  },
  {
   "cell_type": "markdown",
   "metadata": {},
   "source": [
    "### Hyperparameters\n",
    "Tune the following parameters:\n",
    "* Set `epochs` to the number of iterations until the network stops learning or start overfitting\n",
    "* Set `batch_size` to the highest number that your machine has memory for.  Most people set them to common sizes of memory:\n",
    " * 64\n",
    " * 128\n",
    " * 256\n",
    " * ...\n",
    "* Set `keep_probability` to the probability of keeping a node using dropout"
   ]
  },
  {
   "cell_type": "code",
   "execution_count": 47,
   "metadata": {
    "collapsed": true
   },
   "outputs": [],
   "source": [
    "# TODO: Tune Parameters\n",
    "epochs = 25\n",
    "batch_size = 128\n",
    "keep_probability = 0.6"
   ]
  },
  {
   "cell_type": "markdown",
   "metadata": {},
   "source": [
    "### Train on a Single CIFAR-10 Batch\n",
    "Instead of training the neural network on all the CIFAR-10 batches of data, let's use a single batch. This should save time while you iterate on the model to get a better accuracy.  Once the final validation accuracy is 50% or greater, run the model on all the data in the next section."
   ]
  },
  {
   "cell_type": "code",
   "execution_count": 48,
   "metadata": {
    "collapsed": false
   },
   "outputs": [
    {
     "name": "stdout",
     "output_type": "stream",
     "text": [
      "Checking the Training on a Single Batch...\n",
      "Epoch  1, CIFAR-10 Batch 1:  Loss:     1.9949 Validation Accuracy: 0.416600\n",
      "Epoch  2, CIFAR-10 Batch 1:  Loss:     1.6876 Validation Accuracy: 0.469000\n",
      "Epoch  3, CIFAR-10 Batch 1:  Loss:     1.4653 Validation Accuracy: 0.501600\n",
      "Epoch  4, CIFAR-10 Batch 1:  Loss:     1.3135 Validation Accuracy: 0.521400\n",
      "Epoch  5, CIFAR-10 Batch 1:  Loss:     1.1506 Validation Accuracy: 0.544800\n",
      "Epoch  6, CIFAR-10 Batch 1:  Loss:     1.0109 Validation Accuracy: 0.549000\n",
      "Epoch  7, CIFAR-10 Batch 1:  Loss:     0.9196 Validation Accuracy: 0.558600\n",
      "Epoch  8, CIFAR-10 Batch 1:  Loss:     0.8288 Validation Accuracy: 0.559800\n",
      "Epoch  9, CIFAR-10 Batch 1:  Loss:     0.7736 Validation Accuracy: 0.565800\n",
      "Epoch 10, CIFAR-10 Batch 1:  Loss:     0.6825 Validation Accuracy: 0.580200\n",
      "Epoch 11, CIFAR-10 Batch 1:  Loss:     0.6579 Validation Accuracy: 0.566800\n",
      "Epoch 12, CIFAR-10 Batch 1:  Loss:     0.5456 Validation Accuracy: 0.573400\n",
      "Epoch 13, CIFAR-10 Batch 1:  Loss:     0.5164 Validation Accuracy: 0.580600\n",
      "Epoch 14, CIFAR-10 Batch 1:  Loss:     0.4754 Validation Accuracy: 0.586600\n",
      "Epoch 15, CIFAR-10 Batch 1:  Loss:     0.4235 Validation Accuracy: 0.592400\n",
      "Epoch 16, CIFAR-10 Batch 1:  Loss:     0.4510 Validation Accuracy: 0.589200\n",
      "Epoch 17, CIFAR-10 Batch 1:  Loss:     0.3644 Validation Accuracy: 0.596200\n",
      "Epoch 18, CIFAR-10 Batch 1:  Loss:     0.2909 Validation Accuracy: 0.595200\n",
      "Epoch 19, CIFAR-10 Batch 1:  Loss:     0.2974 Validation Accuracy: 0.584400\n",
      "Epoch 20, CIFAR-10 Batch 1:  Loss:     0.2587 Validation Accuracy: 0.585600\n",
      "Epoch 21, CIFAR-10 Batch 1:  Loss:     0.2318 Validation Accuracy: 0.584600\n",
      "Epoch 22, CIFAR-10 Batch 1:  Loss:     0.2254 Validation Accuracy: 0.589200\n",
      "Epoch 23, CIFAR-10 Batch 1:  Loss:     0.1911 Validation Accuracy: 0.588400\n",
      "Epoch 24, CIFAR-10 Batch 1:  Loss:     0.1809 Validation Accuracy: 0.605800\n",
      "Epoch 25, CIFAR-10 Batch 1:  Loss:     0.1886 Validation Accuracy: 0.585800\n"
     ]
    }
   ],
   "source": [
    "\"\"\"\n",
    "DON'T MODIFY ANYTHING IN THIS CELL\n",
    "\"\"\"\n",
    "print('Checking the Training on a Single Batch...')\n",
    "with tf.Session() as sess:\n",
    "    # Initializing the variables\n",
    "    sess.run(tf.global_variables_initializer())\n",
    "    \n",
    "    # Training cycle\n",
    "    for epoch in range(epochs):\n",
    "        batch_i = 1\n",
    "        for batch_features, batch_labels in helper.load_preprocess_training_batch(batch_i, batch_size):\n",
    "            train_neural_network(sess, optimizer, keep_probability, batch_features, batch_labels)\n",
    "        print('Epoch {:>2}, CIFAR-10 Batch {}:  '.format(epoch + 1, batch_i), end='')\n",
    "        print_stats(sess, batch_features, batch_labels, cost, accuracy)"
   ]
  },
  {
   "cell_type": "markdown",
   "metadata": {},
   "source": [
    "### Fully Train the Model\n",
    "Now that you got a good accuracy with a single CIFAR-10 batch, try it with all five batches."
   ]
  },
  {
   "cell_type": "code",
   "execution_count": 49,
   "metadata": {
    "collapsed": false
   },
   "outputs": [
    {
     "name": "stdout",
     "output_type": "stream",
     "text": [
      "Training...\n",
      "Epoch  1, CIFAR-10 Batch 1:  Loss:     1.8869 Validation Accuracy: 0.404400\n",
      "Epoch  1, CIFAR-10 Batch 2:  Loss:     1.4926 Validation Accuracy: 0.468200\n",
      "Epoch  1, CIFAR-10 Batch 3:  Loss:     1.2813 Validation Accuracy: 0.486400\n",
      "Epoch  1, CIFAR-10 Batch 4:  Loss:     1.3874 Validation Accuracy: 0.500800\n",
      "Epoch  1, CIFAR-10 Batch 5:  Loss:     1.3746 Validation Accuracy: 0.523800\n",
      "Epoch  2, CIFAR-10 Batch 1:  Loss:     1.4192 Validation Accuracy: 0.544800\n",
      "Epoch  2, CIFAR-10 Batch 2:  Loss:     1.1642 Validation Accuracy: 0.564800\n",
      "Epoch  2, CIFAR-10 Batch 3:  Loss:     1.0269 Validation Accuracy: 0.564400\n",
      "Epoch  2, CIFAR-10 Batch 4:  Loss:     1.1009 Validation Accuracy: 0.578400\n",
      "Epoch  2, CIFAR-10 Batch 5:  Loss:     1.1603 Validation Accuracy: 0.574400\n",
      "Epoch  3, CIFAR-10 Batch 1:  Loss:     1.2055 Validation Accuracy: 0.582400\n",
      "Epoch  3, CIFAR-10 Batch 2:  Loss:     0.9974 Validation Accuracy: 0.597800\n",
      "Epoch  3, CIFAR-10 Batch 3:  Loss:     0.8808 Validation Accuracy: 0.596600\n",
      "Epoch  3, CIFAR-10 Batch 4:  Loss:     0.9425 Validation Accuracy: 0.596800\n",
      "Epoch  3, CIFAR-10 Batch 5:  Loss:     1.0251 Validation Accuracy: 0.595000\n",
      "Epoch  4, CIFAR-10 Batch 1:  Loss:     0.9598 Validation Accuracy: 0.603400\n",
      "Epoch  4, CIFAR-10 Batch 2:  Loss:     0.8942 Validation Accuracy: 0.616400\n",
      "Epoch  4, CIFAR-10 Batch 3:  Loss:     0.8354 Validation Accuracy: 0.615400\n",
      "Epoch  4, CIFAR-10 Batch 4:  Loss:     0.8525 Validation Accuracy: 0.624600\n",
      "Epoch  4, CIFAR-10 Batch 5:  Loss:     0.9067 Validation Accuracy: 0.619200\n",
      "Epoch  5, CIFAR-10 Batch 1:  Loss:     0.8370 Validation Accuracy: 0.625600\n",
      "Epoch  5, CIFAR-10 Batch 2:  Loss:     0.7935 Validation Accuracy: 0.632200\n",
      "Epoch  5, CIFAR-10 Batch 3:  Loss:     0.6726 Validation Accuracy: 0.633000\n",
      "Epoch  5, CIFAR-10 Batch 4:  Loss:     0.7443 Validation Accuracy: 0.633200\n",
      "Epoch  5, CIFAR-10 Batch 5:  Loss:     0.7792 Validation Accuracy: 0.634200\n",
      "Epoch  6, CIFAR-10 Batch 1:  Loss:     0.7891 Validation Accuracy: 0.648000\n",
      "Epoch  6, CIFAR-10 Batch 2:  Loss:     0.7206 Validation Accuracy: 0.635600\n",
      "Epoch  6, CIFAR-10 Batch 3:  Loss:     0.6096 Validation Accuracy: 0.641600\n",
      "Epoch  6, CIFAR-10 Batch 4:  Loss:     0.6553 Validation Accuracy: 0.638600\n",
      "Epoch  6, CIFAR-10 Batch 5:  Loss:     0.7067 Validation Accuracy: 0.642200\n",
      "Epoch  7, CIFAR-10 Batch 1:  Loss:     0.6783 Validation Accuracy: 0.654800\n",
      "Epoch  7, CIFAR-10 Batch 2:  Loss:     0.6319 Validation Accuracy: 0.648000\n",
      "Epoch  7, CIFAR-10 Batch 3:  Loss:     0.5286 Validation Accuracy: 0.653200\n",
      "Epoch  7, CIFAR-10 Batch 4:  Loss:     0.5876 Validation Accuracy: 0.662800\n",
      "Epoch  7, CIFAR-10 Batch 5:  Loss:     0.5602 Validation Accuracy: 0.654400\n",
      "Epoch  8, CIFAR-10 Batch 1:  Loss:     0.6278 Validation Accuracy: 0.657800\n",
      "Epoch  8, CIFAR-10 Batch 2:  Loss:     0.5990 Validation Accuracy: 0.636000\n",
      "Epoch  8, CIFAR-10 Batch 3:  Loss:     0.4848 Validation Accuracy: 0.653000\n",
      "Epoch  8, CIFAR-10 Batch 4:  Loss:     0.5607 Validation Accuracy: 0.661400\n",
      "Epoch  8, CIFAR-10 Batch 5:  Loss:     0.5426 Validation Accuracy: 0.668200\n",
      "Epoch  9, CIFAR-10 Batch 1:  Loss:     0.6090 Validation Accuracy: 0.660000\n",
      "Epoch  9, CIFAR-10 Batch 2:  Loss:     0.5152 Validation Accuracy: 0.660000\n",
      "Epoch  9, CIFAR-10 Batch 3:  Loss:     0.4358 Validation Accuracy: 0.662600\n",
      "Epoch  9, CIFAR-10 Batch 4:  Loss:     0.4776 Validation Accuracy: 0.671800\n",
      "Epoch  9, CIFAR-10 Batch 5:  Loss:     0.5071 Validation Accuracy: 0.657800\n",
      "Epoch 10, CIFAR-10 Batch 1:  Loss:     0.5304 Validation Accuracy: 0.676000\n",
      "Epoch 10, CIFAR-10 Batch 2:  Loss:     0.4260 Validation Accuracy: 0.677600\n",
      "Epoch 10, CIFAR-10 Batch 3:  Loss:     0.3916 Validation Accuracy: 0.674800\n",
      "Epoch 10, CIFAR-10 Batch 4:  Loss:     0.4775 Validation Accuracy: 0.669800\n",
      "Epoch 10, CIFAR-10 Batch 5:  Loss:     0.4682 Validation Accuracy: 0.663600\n",
      "Epoch 11, CIFAR-10 Batch 1:  Loss:     0.5056 Validation Accuracy: 0.669400\n",
      "Epoch 11, CIFAR-10 Batch 2:  Loss:     0.4327 Validation Accuracy: 0.667200\n",
      "Epoch 11, CIFAR-10 Batch 3:  Loss:     0.3440 Validation Accuracy: 0.682400\n",
      "Epoch 11, CIFAR-10 Batch 4:  Loss:     0.4464 Validation Accuracy: 0.669400\n",
      "Epoch 11, CIFAR-10 Batch 5:  Loss:     0.3926 Validation Accuracy: 0.646800\n",
      "Epoch 12, CIFAR-10 Batch 1:  Loss:     0.5244 Validation Accuracy: 0.680400\n",
      "Epoch 12, CIFAR-10 Batch 2:  Loss:     0.3268 Validation Accuracy: 0.678600\n",
      "Epoch 12, CIFAR-10 Batch 3:  Loss:     0.3073 Validation Accuracy: 0.687000\n",
      "Epoch 12, CIFAR-10 Batch 4:  Loss:     0.3288 Validation Accuracy: 0.685000\n",
      "Epoch 12, CIFAR-10 Batch 5:  Loss:     0.4129 Validation Accuracy: 0.663400\n",
      "Epoch 13, CIFAR-10 Batch 1:  Loss:     0.3996 Validation Accuracy: 0.682600\n",
      "Epoch 13, CIFAR-10 Batch 2:  Loss:     0.3148 Validation Accuracy: 0.677000\n",
      "Epoch 13, CIFAR-10 Batch 3:  Loss:     0.2814 Validation Accuracy: 0.685000\n",
      "Epoch 13, CIFAR-10 Batch 4:  Loss:     0.3197 Validation Accuracy: 0.679200\n",
      "Epoch 13, CIFAR-10 Batch 5:  Loss:     0.3182 Validation Accuracy: 0.662200\n",
      "Epoch 14, CIFAR-10 Batch 1:  Loss:     0.3910 Validation Accuracy: 0.680600\n",
      "Epoch 14, CIFAR-10 Batch 2:  Loss:     0.2911 Validation Accuracy: 0.684400\n",
      "Epoch 14, CIFAR-10 Batch 3:  Loss:     0.2339 Validation Accuracy: 0.686400\n",
      "Epoch 14, CIFAR-10 Batch 4:  Loss:     0.2996 Validation Accuracy: 0.676400\n",
      "Epoch 14, CIFAR-10 Batch 5:  Loss:     0.2898 Validation Accuracy: 0.687800\n",
      "Epoch 15, CIFAR-10 Batch 1:  Loss:     0.3403 Validation Accuracy: 0.674600\n",
      "Epoch 15, CIFAR-10 Batch 2:  Loss:     0.2205 Validation Accuracy: 0.684200\n",
      "Epoch 15, CIFAR-10 Batch 3:  Loss:     0.1986 Validation Accuracy: 0.673000\n",
      "Epoch 15, CIFAR-10 Batch 4:  Loss:     0.2703 Validation Accuracy: 0.677200\n",
      "Epoch 15, CIFAR-10 Batch 5:  Loss:     0.3367 Validation Accuracy: 0.675000\n",
      "Epoch 16, CIFAR-10 Batch 1:  Loss:     0.2963 Validation Accuracy: 0.689000\n",
      "Epoch 16, CIFAR-10 Batch 2:  Loss:     0.2012 Validation Accuracy: 0.684800\n",
      "Epoch 16, CIFAR-10 Batch 3:  Loss:     0.1986 Validation Accuracy: 0.682200\n",
      "Epoch 16, CIFAR-10 Batch 4:  Loss:     0.2238 Validation Accuracy: 0.677400\n",
      "Epoch 16, CIFAR-10 Batch 5:  Loss:     0.2436 Validation Accuracy: 0.677000\n",
      "Epoch 17, CIFAR-10 Batch 1:  Loss:     0.2620 Validation Accuracy: 0.680000\n",
      "Epoch 17, CIFAR-10 Batch 2:  Loss:     0.1917 Validation Accuracy: 0.683400\n",
      "Epoch 17, CIFAR-10 Batch 3:  Loss:     0.2332 Validation Accuracy: 0.673000\n",
      "Epoch 17, CIFAR-10 Batch 4:  Loss:     0.2171 Validation Accuracy: 0.683800\n",
      "Epoch 17, CIFAR-10 Batch 5:  Loss:     0.2184 Validation Accuracy: 0.677800\n",
      "Epoch 18, CIFAR-10 Batch 1:  Loss:     0.2487 Validation Accuracy: 0.693000\n",
      "Epoch 18, CIFAR-10 Batch 2:  Loss:     0.1685 Validation Accuracy: 0.689200\n",
      "Epoch 18, CIFAR-10 Batch 3:  Loss:     0.1660 Validation Accuracy: 0.674800\n",
      "Epoch 18, CIFAR-10 Batch 4:  Loss:     0.2353 Validation Accuracy: 0.677800\n",
      "Epoch 18, CIFAR-10 Batch 5:  Loss:     0.1869 Validation Accuracy: 0.678200\n",
      "Epoch 19, CIFAR-10 Batch 1:  Loss:     0.2469 Validation Accuracy: 0.688400\n",
      "Epoch 19, CIFAR-10 Batch 2:  Loss:     0.1294 Validation Accuracy: 0.690200\n",
      "Epoch 19, CIFAR-10 Batch 3:  Loss:     0.1513 Validation Accuracy: 0.684200\n",
      "Epoch 19, CIFAR-10 Batch 4:  Loss:     0.1965 Validation Accuracy: 0.667000\n",
      "Epoch 19, CIFAR-10 Batch 5:  Loss:     0.1830 Validation Accuracy: 0.683400\n",
      "Epoch 20, CIFAR-10 Batch 1:  Loss:     0.2081 Validation Accuracy: 0.692400\n",
      "Epoch 20, CIFAR-10 Batch 2:  Loss:     0.1386 Validation Accuracy: 0.677800\n",
      "Epoch 20, CIFAR-10 Batch 3:  Loss:     0.1684 Validation Accuracy: 0.661000\n",
      "Epoch 20, CIFAR-10 Batch 4:  Loss:     0.1596 Validation Accuracy: 0.677000\n",
      "Epoch 20, CIFAR-10 Batch 5:  Loss:     0.1495 Validation Accuracy: 0.676000\n",
      "Epoch 21, CIFAR-10 Batch 1:  Loss:     0.1814 Validation Accuracy: 0.686800\n",
      "Epoch 21, CIFAR-10 Batch 2:  Loss:     0.1294 Validation Accuracy: 0.692400\n",
      "Epoch 21, CIFAR-10 Batch 3:  Loss:     0.1356 Validation Accuracy: 0.679200\n",
      "Epoch 21, CIFAR-10 Batch 4:  Loss:     0.1877 Validation Accuracy: 0.673400\n",
      "Epoch 21, CIFAR-10 Batch 5:  Loss:     0.1367 Validation Accuracy: 0.678200\n",
      "Epoch 22, CIFAR-10 Batch 1:  Loss:     0.1506 Validation Accuracy: 0.690200\n",
      "Epoch 22, CIFAR-10 Batch 2:  Loss:     0.1071 Validation Accuracy: 0.695600\n",
      "Epoch 22, CIFAR-10 Batch 3:  Loss:     0.1245 Validation Accuracy: 0.680200\n",
      "Epoch 22, CIFAR-10 Batch 4:  Loss:     0.1422 Validation Accuracy: 0.670800\n",
      "Epoch 22, CIFAR-10 Batch 5:  Loss:     0.1646 Validation Accuracy: 0.676400\n",
      "Epoch 23, CIFAR-10 Batch 1:  Loss:     0.1191 Validation Accuracy: 0.691200\n",
      "Epoch 23, CIFAR-10 Batch 2:  Loss:     0.0830 Validation Accuracy: 0.694000\n",
      "Epoch 23, CIFAR-10 Batch 3:  Loss:     0.1249 Validation Accuracy: 0.660200\n",
      "Epoch 23, CIFAR-10 Batch 4:  Loss:     0.1407 Validation Accuracy: 0.672200\n",
      "Epoch 23, CIFAR-10 Batch 5:  Loss:     0.1152 Validation Accuracy: 0.681600\n",
      "Epoch 24, CIFAR-10 Batch 1:  Loss:     0.1177 Validation Accuracy: 0.689600\n",
      "Epoch 24, CIFAR-10 Batch 2:  Loss:     0.0803 Validation Accuracy: 0.691600\n",
      "Epoch 24, CIFAR-10 Batch 3:  Loss:     0.1125 Validation Accuracy: 0.684200\n",
      "Epoch 24, CIFAR-10 Batch 4:  Loss:     0.1204 Validation Accuracy: 0.678400\n",
      "Epoch 24, CIFAR-10 Batch 5:  Loss:     0.1203 Validation Accuracy: 0.682400\n",
      "Epoch 25, CIFAR-10 Batch 1:  Loss:     0.1049 Validation Accuracy: 0.693400\n",
      "Epoch 25, CIFAR-10 Batch 2:  Loss:     0.0775 Validation Accuracy: 0.684600\n",
      "Epoch 25, CIFAR-10 Batch 3:  Loss:     0.0982 Validation Accuracy: 0.688000\n",
      "Epoch 25, CIFAR-10 Batch 4:  Loss:     0.1548 Validation Accuracy: 0.673400\n",
      "Epoch 25, CIFAR-10 Batch 5:  Loss:     0.0850 Validation Accuracy: 0.686000\n"
     ]
    }
   ],
   "source": [
    "\"\"\"\n",
    "DON'T MODIFY ANYTHING IN THIS CELL\n",
    "\"\"\"\n",
    "save_model_path = './image_classification'\n",
    "\n",
    "print('Training...')\n",
    "with tf.Session() as sess:\n",
    "    # Initializing the variables\n",
    "    sess.run(tf.global_variables_initializer())\n",
    "    \n",
    "    # Training cycle\n",
    "    for epoch in range(epochs):\n",
    "        # Loop over all batches\n",
    "        n_batches = 5\n",
    "        for batch_i in range(1, n_batches + 1):\n",
    "            for batch_features, batch_labels in helper.load_preprocess_training_batch(batch_i, batch_size):\n",
    "                train_neural_network(sess, optimizer, keep_probability, batch_features, batch_labels)\n",
    "            print('Epoch {:>2}, CIFAR-10 Batch {}:  '.format(epoch + 1, batch_i), end='')\n",
    "            print_stats(sess, batch_features, batch_labels, cost, accuracy)\n",
    "            \n",
    "    # Save Model\n",
    "    saver = tf.train.Saver()\n",
    "    save_path = saver.save(sess, save_model_path)"
   ]
  },
  {
   "cell_type": "code",
   "execution_count": null,
   "metadata": {
    "collapsed": true
   },
   "outputs": [],
   "source": []
  },
  {
   "cell_type": "markdown",
   "metadata": {},
   "source": [
    "# Checkpoint\n",
    "The model has been saved to disk.\n",
    "## Test Model\n",
    "Test your model against the test dataset.  This will be your final accuracy. You should have an accuracy greater than 50%. If you don't, keep tweaking the model architecture and parameters."
   ]
  },
  {
   "cell_type": "code",
   "execution_count": 50,
   "metadata": {
    "collapsed": false
   },
   "outputs": [
    {
     "name": "stdout",
     "output_type": "stream",
     "text": [
      "INFO:tensorflow:Restoring parameters from ./image_classification\n",
      "Testing Accuracy: 0.6885878164556962\n",
      "\n"
     ]
    },
    {
     "data": {
      "image/png": "[encoded data removed]",
      "text/plain": [
       "<matplotlib.figure.Figure at 0x2d5ea00def0>"
      ]
     },
     "metadata": {
      "image/png": {
       "height": 319,
       "width": 355
      }
     },
     "output_type": "display_data"
    }
   ],
   "source": [
    "\"\"\"\n",
    "DON'T MODIFY ANYTHING IN THIS CELL\n",
    "\"\"\"\n",
    "%matplotlib inline\n",
    "%config InlineBackend.figure_format = 'retina'\n",
    "\n",
    "import tensorflow as tf\n",
    "import pickle\n",
    "import helper\n",
    "import random\n",
    "\n",
    "# Set batch size if not already set\n",
    "try:\n",
    "    if batch_size:\n",
    "        pass\n",
    "except NameError:\n",
    "    batch_size = 64\n",
    "\n",
    "save_model_path = './image_classification'\n",
    "n_samples = 4\n",
    "top_n_predictions = 3\n",
    "\n",
    "def test_model():\n",
    "    \"\"\"\n",
    "    Test the saved model against the test dataset\n",
    "    \"\"\"\n",
    "\n",
    "    test_features, test_labels = pickle.load(open('preprocess_training.p', mode='rb'))\n",
    "    loaded_graph = tf.Graph()\n",
    "\n",
    "    with tf.Session(graph=loaded_graph) as sess:\n",
    "        # Load model\n",
    "        loader = tf.train.import_meta_graph(save_model_path + '.meta')\n",
    "        loader.restore(sess, save_model_path)\n",
    "\n",
    "        # Get Tensors from loaded model\n",
    "        loaded_x = loaded_graph.get_tensor_by_name('x:0')\n",
    "        loaded_y = loaded_graph.get_tensor_by_name('y:0')\n",
    "        loaded_keep_prob = loaded_graph.get_tensor_by_name('keep_prob:0')\n",
    "        loaded_logits = loaded_graph.get_tensor_by_name('logits:0')\n",
    "        loaded_acc = loaded_graph.get_tensor_by_name('accuracy:0')\n",
    "        \n",
    "        # Get accuracy in batches for memory limitations\n",
    "        test_batch_acc_total = 0\n",
    "        test_batch_count = 0\n",
    "        \n",
    "        for train_feature_batch, train_label_batch in helper.batch_features_labels(test_features, test_labels, batch_size):\n",
    "            test_batch_acc_total += sess.run(\n",
    "                loaded_acc,\n",
    "                feed_dict={loaded_x: train_feature_batch, loaded_y: train_label_batch, loaded_keep_prob: 1.0})\n",
    "            test_batch_count += 1\n",
    "\n",
    "        print('Testing Accuracy: {}\\n'.format(test_batch_acc_total/test_batch_count))\n",
    "\n",
    "        # Print Random Samples\n",
    "        random_test_features, random_test_labels = tuple(zip(*random.sample(list(zip(test_features, test_labels)), n_samples)))\n",
    "        random_test_predictions = sess.run(\n",
    "            tf.nn.top_k(tf.nn.softmax(loaded_logits), top_n_predictions),\n",
    "            feed_dict={loaded_x: random_test_features, loaded_y: random_test_labels, loaded_keep_prob: 1.0})\n",
    "        helper.display_image_predictions(random_test_features, random_test_labels, random_test_predictions)\n",
    "\n",
    "\n",
    "test_model()"
   ]
  },
  {
   "cell_type": "markdown",
   "metadata": {},
   "source": [
    "## Why 50-80% Accuracy?\n",
    "You might be wondering why you can't get an accuracy any higher. First things first, 50% isn't bad for a simple CNN.  Pure guessing would get you 10% accuracy. That's because there are many more techniques that can be applied to your model and we recemmond that once you are done with this project, you explore!\n",
    "\n",
    "## Submitting This Project\n",
    "When submitting this project, make sure to run all the cells before saving the notebook.  Save the notebook file as \"image_classification.ipynb\" and save it as a HTML file under \"File\" -> \"Download as\".  Include the \"helper.py\" and \"problem_unittests.py\" files in your submission."
   ]
  }
 ],
 "metadata": {
  "kernelspec": {
   "display_name": "Python 3",
   "language": "python",
   "name": "python3"
  },
  "language_info": {
   "codemirror_mode": {
    "name": "ipython",
    "version": 3
   },
   "file_extension": ".py",
   "mimetype": "text/x-python",
   "name": "python",
   "nbconvert_exporter": "python",
   "pygments_lexer": "ipython3",
   "version": "3.6.2"
  }
 },
 "nbformat": 4,
 "nbformat_minor": 0
}
